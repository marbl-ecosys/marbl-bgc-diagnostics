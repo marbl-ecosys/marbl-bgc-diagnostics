{
 "cells": [
  {
   "cell_type": "markdown",
   "id": "f036fd98-b83f-4ad1-88f6-8e2d4c002cd6",
   "metadata": {},
   "source": [
    "# 00 - Build the Intake-ESM Catalog\n",
    "We can build an `intake-esm` catalog from the history files. During this analysis, we **do not** convert from history to timeseries."
   ]
  },
  {
   "cell_type": "code",
   "execution_count": 1,
   "id": "5748e6bc-4ffd-4d49-88be-54be6fa3b3de",
   "metadata": {},
   "outputs": [
    {
     "name": "stderr",
     "output_type": "stream",
     "text": [
      "/glade/u/home/mgrover/miniconda3/envs/hires-marbl/lib/python3.7/site-packages/dask_jobqueue/core.py:19: FutureWarning: format_bytes is deprecated and will be removed in a future release. Please use dask.utils.format_bytes instead.\n",
      "  from distributed.utils import format_bytes, parse_bytes, tmpfile\n",
      "/glade/u/home/mgrover/miniconda3/envs/hires-marbl/lib/python3.7/site-packages/dask_jobqueue/core.py:19: FutureWarning: parse_bytes is deprecated and will be removed in a future release. Please use dask.utils.parse_bytes instead.\n",
      "  from distributed.utils import format_bytes, parse_bytes, tmpfile\n",
      "/glade/u/home/mgrover/miniconda3/envs/hires-marbl/lib/python3.7/site-packages/dask_jobqueue/htcondor.py:6: FutureWarning: parse_bytes is deprecated and will be removed in a future release. Please use dask.utils.parse_bytes instead.\n",
      "  from distributed.utils import parse_bytes\n"
     ]
    }
   ],
   "source": [
    "from distributed import Client\n",
    "from ncar_jobqueue import NCARCluster"
   ]
  },
  {
   "cell_type": "code",
   "execution_count": 2,
   "id": "ce18ea48-cf28-4ba9-a98a-f64aa901ad9a",
   "metadata": {},
   "outputs": [],
   "source": [
    "cluster = NCARCluster()\n",
    "cluster.scale(20)\n",
    "client = Client(cluster)"
   ]
  },
  {
   "cell_type": "code",
   "execution_count": 3,
   "id": "688ea53c-fac1-45bd-9d28-8bcf19a3e1f1",
   "metadata": {},
   "outputs": [
    {
     "data": {
      "text/html": [
       "\n",
       "            <div>\n",
       "                <div style=\"\n",
       "                    width: 24px;\n",
       "                    height: 24px;\n",
       "                    background-color: #e1e1e1;\n",
       "                    border: 3px solid #9D9D9D;\n",
       "                    border-radius: 5px;\n",
       "                    position: absolute;\"> </div>\n",
       "                <div style=\"margin-left: 48px;\">\n",
       "                    <h3 style=\"margin-bottom: 0px;\">Client</h3>\n",
       "                    <p style=\"color: #9D9D9D; margin-bottom: 0px;\">Client-ff57e538-0065-11ec-b574-2b7c8ec4b9bd</p>\n",
       "                    <table style=\"width: 100%; text-align: left;\">\n",
       "                    \n",
       "                <tr>\n",
       "                    <td style=\"text-align: left;\"><strong>Connection method:</strong> Cluster object</td>\n",
       "                    <td style=\"text-align: left;\"><strong>Cluster type:</strong> PBSCluster</td>\n",
       "                </tr>\n",
       "                \n",
       "                <tr>\n",
       "                    <td style=\"text-align: left;\">\n",
       "                        <strong>Dashboard: </strong>\n",
       "                        <a href=\"https://jupyterhub.hpc.ucar.edu/stable/user/mgrover/proxy/8787/status\">https://jupyterhub.hpc.ucar.edu/stable/user/mgrover/proxy/8787/status</a>\n",
       "                    </td>\n",
       "                    <td style=\"text-align: left;\"></td>\n",
       "                </tr>\n",
       "                \n",
       "                    </table>\n",
       "                    \n",
       "                <details>\n",
       "                <summary style=\"margin-bottom: 20px;\"><h3 style=\"display: inline;\">Cluster Info</h3></summary>\n",
       "                \n",
       "            <div class=\"jp-RenderedHTMLCommon jp-RenderedHTML jp-mod-trusted jp-OutputArea-output\">\n",
       "                <div style=\"\n",
       "                    width: 24px;\n",
       "                    height: 24px;\n",
       "                    background-color: #e1e1e1;\n",
       "                    border: 3px solid #9D9D9D;\n",
       "                    border-radius: 5px;\n",
       "                    position: absolute;\"> </div>\n",
       "                <div style=\"margin-left: 48px;\">\n",
       "                    <h3 style=\"margin-bottom: 0px; margin-top: 0px;\">PBSCluster</h3>\n",
       "                    <p style=\"color: #9D9D9D; margin-bottom: 0px;\">b939f79e</p>\n",
       "                    <table style=\"width: 100%; text-align: left;\">\n",
       "                    \n",
       "            <tr>\n",
       "                <td style=\"text-align: left;\">\n",
       "                    <strong>Dashboard:</strong> <a href=\"https://jupyterhub.hpc.ucar.edu/stable/user/mgrover/proxy/8787/status\">https://jupyterhub.hpc.ucar.edu/stable/user/mgrover/proxy/8787/status</a>\n",
       "                </td>\n",
       "                <td style=\"text-align: left;\"><strong>Workers:</strong> 0</td>\n",
       "            </tr>\n",
       "            <tr>\n",
       "                <td style=\"text-align: left;\">\n",
       "                    <strong>Total threads:</strong>\n",
       "                    0\n",
       "                </td>\n",
       "                <td style=\"text-align: left;\">\n",
       "                    <strong>Total memory:</strong>\n",
       "                    0 B\n",
       "                </td>\n",
       "            </tr>\n",
       "        \n",
       "                    </table>\n",
       "                    <details>\n",
       "                    <summary style=\"margin-bottom: 20px;\"><h3 style=\"display: inline;\">Scheduler Info</h3></summary>\n",
       "                    \n",
       "        <div style=\"\">\n",
       "            \n",
       "            <div>\n",
       "                <div style=\"\n",
       "                    width: 24px;\n",
       "                    height: 24px;\n",
       "                    background-color: #FFF7E5;\n",
       "                    border: 3px solid #FF6132;\n",
       "                    border-radius: 5px;\n",
       "                    position: absolute;\"> </div>\n",
       "                <div style=\"margin-left: 48px;\">\n",
       "                    <h3 style=\"margin-bottom: 0px;\">Scheduler</h3>\n",
       "                    <p style=\"color: #9D9D9D; margin-bottom: 0px;\">Scheduler-049adc67-238a-4dd5-8239-68aaa1244f94</p>\n",
       "                    <table style=\"width: 100%; text-align: left;\">\n",
       "                        <tr>\n",
       "                            <td style=\"text-align: left;\"><strong>Comm:</strong> tcp://10.12.206.9:43930</td>\n",
       "                            <td style=\"text-align: left;\"><strong>Workers:</strong> 0</td>\n",
       "                        </tr>\n",
       "                        <tr>\n",
       "                            <td style=\"text-align: left;\">\n",
       "                                <strong>Dashboard:</strong> <a href=\"https://jupyterhub.hpc.ucar.edu/stable/user/mgrover/proxy/8787/status\">https://jupyterhub.hpc.ucar.edu/stable/user/mgrover/proxy/8787/status</a>\n",
       "                            </td>\n",
       "                            <td style=\"text-align: left;\">\n",
       "                                <strong>Total threads:</strong>\n",
       "                                0\n",
       "                            </td>\n",
       "                        </tr>\n",
       "                        <tr>\n",
       "                            <td style=\"text-align: left;\">\n",
       "                                <strong>Started:</strong>\n",
       "                                Just now\n",
       "                            </td>\n",
       "                            <td style=\"text-align: left;\">\n",
       "                                <strong>Total memory:</strong>\n",
       "                                0 B\n",
       "                            </td>\n",
       "                        </tr>\n",
       "                    </table>\n",
       "                </div>\n",
       "            </div>\n",
       "        \n",
       "            <details style=\"margin-left: 48px;\">\n",
       "            <summary style=\"margin-bottom: 20px;\"><h3 style=\"display: inline;\">Workers</h3></summary>\n",
       "            \n",
       "            </details>\n",
       "        </div>\n",
       "        \n",
       "                    </details>\n",
       "                </div>\n",
       "            </div>\n",
       "        \n",
       "                </details>\n",
       "                \n",
       "                </div>\n",
       "            </div>\n",
       "        "
      ],
      "text/plain": [
       "<Client: 'tcp://10.12.206.9:43930' processes=0 threads=0, memory=0 B>"
      ]
     },
     "execution_count": 3,
     "metadata": {},
     "output_type": "execute_result"
    }
   ],
   "source": [
    "client"
   ]
  },
  {
   "cell_type": "code",
   "execution_count": 1,
   "id": "44336f87-91c6-453a-9d22-cc67f3371fc0",
   "metadata": {},
   "outputs": [],
   "source": [
    "from ecgtools import Builder\n",
    "from ecgtools.parsers.cesm import parse_cesm_history\n",
    "import pandas as pd"
   ]
  },
  {
   "cell_type": "code",
   "execution_count": 2,
   "id": "11e577d6-da5c-4774-9aad-76b96b71bb9d",
   "metadata": {},
   "outputs": [],
   "source": [
    "def build_catalog(case):\n",
    "    b = Builder(\n",
    "        # Directory with the output\n",
    "        f\"/glade/scratch/hannay/archive/{case}/ocn/hist\",\n",
    "        # Depth of 1 since we are sending it to the case output directory\n",
    "        depth=1,\n",
    "        # Exclude the timeseries and restart directories\n",
    "        exclude_patterns=[\"*/tseries/*\", \"*/rest/*\"],\n",
    "        # Number of jobs to execute - should be equal to # threads you are using\n",
    "        njobs=-1,\n",
    "    )\n",
    "    \n",
    "    return b.build(parse_cesm_history)"
   ]
  },
  {
   "cell_type": "code",
   "execution_count": null,
   "id": "634b49d3-8b47-4f0d-b3e5-0ae03d423fe1",
   "metadata": {},
   "outputs": [],
   "source": []
  },
  {
   "cell_type": "code",
   "execution_count": 3,
   "id": "54552474-b281-4311-8c98-a28b6fe4b327",
   "metadata": {},
   "outputs": [],
   "source": [
    "cases = ['b1850.f19_g17.validation_nuopc.004_copy2',\n",
    "         'b1850.f19_g17.validation_mct.004',\n",
    "         'b1850.f19_g17.validation_mct.002']"
   ]
  },
  {
   "cell_type": "code",
   "execution_count": 4,
   "id": "609d8016-83e2-45b6-9f66-7914b0419b57",
   "metadata": {},
   "outputs": [
    {
     "name": "stderr",
     "output_type": "stream",
     "text": [
      "[Parallel(n_jobs=-1)]: Using backend LokyBackend with 72 concurrent workers.\n",
      "[Parallel(n_jobs=-1)]: Done   1 out of   1 | elapsed:    0.9s finished\n",
      "[Parallel(n_jobs=-1)]: Using backend LokyBackend with 72 concurrent workers.\n",
      "[Parallel(n_jobs=-1)]: Done  18 tasks      | elapsed:    2.5s\n",
      "[Parallel(n_jobs=-1)]: Done 144 tasks      | elapsed:    3.8s\n",
      "[Parallel(n_jobs=-1)]: Done 306 tasks      | elapsed:    5.9s\n",
      "[Parallel(n_jobs=-1)]: Done 504 tasks      | elapsed:   12.5s\n",
      "[Parallel(n_jobs=-1)]: Done 738 tasks      | elapsed:   16.3s\n",
      "[Parallel(n_jobs=-1)]: Done 1008 tasks      | elapsed:   19.5s\n",
      "[Parallel(n_jobs=-1)]: Done 1314 tasks      | elapsed:   23.0s\n",
      "[Parallel(n_jobs=-1)]: Done 1656 tasks      | elapsed:   27.1s\n",
      "[Parallel(n_jobs=-1)]: Done 2034 tasks      | elapsed:   33.9s\n",
      "[Parallel(n_jobs=-1)]: Done 2448 tasks      | elapsed:   38.8s\n",
      "[Parallel(n_jobs=-1)]: Done 2898 tasks      | elapsed:   44.0s\n",
      "[Parallel(n_jobs=-1)]: Done 3384 tasks      | elapsed:   49.7s\n",
      "[Parallel(n_jobs=-1)]: Done 3702 out of 3702 | elapsed:   53.2s finished\n",
      "/glade/work/mgrover/git_repos/ecgtools/ecgtools/builder.py:180: UserWarning: Unable to parse 1 assets/files. A list of these assets can be found in `.invalid_assets` attribute.\n",
      "  parsing_func, parsing_func_kwargs\n",
      "[Parallel(n_jobs=-1)]: Using backend LokyBackend with 72 concurrent workers.\n",
      "[Parallel(n_jobs=-1)]: Done   1 out of   1 | elapsed:    0.1s finished\n",
      "[Parallel(n_jobs=-1)]: Using backend LokyBackend with 72 concurrent workers.\n",
      "[Parallel(n_jobs=-1)]: Done  18 tasks      | elapsed:    0.7s\n",
      "[Parallel(n_jobs=-1)]: Done 144 tasks      | elapsed:    2.1s\n",
      "[Parallel(n_jobs=-1)]: Done 306 tasks      | elapsed:    3.8s\n",
      "[Parallel(n_jobs=-1)]: Done 504 tasks      | elapsed:    6.5s\n",
      "[Parallel(n_jobs=-1)]: Done 738 tasks      | elapsed:    9.2s\n",
      "[Parallel(n_jobs=-1)]: Done 1008 tasks      | elapsed:   12.4s\n",
      "[Parallel(n_jobs=-1)]: Done 1314 tasks      | elapsed:   16.1s\n",
      "[Parallel(n_jobs=-1)]: Done 1656 tasks      | elapsed:   19.9s\n",
      "[Parallel(n_jobs=-1)]: Done 2034 tasks      | elapsed:   23.7s\n",
      "[Parallel(n_jobs=-1)]: Done 2448 tasks      | elapsed:   29.1s\n",
      "[Parallel(n_jobs=-1)]: Done 2898 tasks      | elapsed:   34.3s\n",
      "[Parallel(n_jobs=-1)]: Done 3384 tasks      | elapsed:   39.9s\n",
      "[Parallel(n_jobs=-1)]: Done 3702 out of 3702 | elapsed:   43.6s finished\n",
      "[Parallel(n_jobs=-1)]: Using backend LokyBackend with 72 concurrent workers.\n",
      "[Parallel(n_jobs=-1)]: Done   1 out of   1 | elapsed:    0.1s finished\n",
      "[Parallel(n_jobs=-1)]: Using backend LokyBackend with 72 concurrent workers.\n",
      "[Parallel(n_jobs=-1)]: Done  18 tasks      | elapsed:    0.6s\n",
      "[Parallel(n_jobs=-1)]: Done 144 tasks      | elapsed:    2.0s\n",
      "[Parallel(n_jobs=-1)]: Done 306 tasks      | elapsed:    3.7s\n",
      "[Parallel(n_jobs=-1)]: Done 504 tasks      | elapsed:    6.1s\n",
      "[Parallel(n_jobs=-1)]: Done 738 tasks      | elapsed:    9.0s\n",
      "[Parallel(n_jobs=-1)]: Done 1008 tasks      | elapsed:   12.3s\n",
      "[Parallel(n_jobs=-1)]: Done 1314 tasks      | elapsed:   15.9s\n",
      "[Parallel(n_jobs=-1)]: Done 1656 tasks      | elapsed:   20.0s\n",
      "[Parallel(n_jobs=-1)]: Done 2034 tasks      | elapsed:   24.7s\n",
      "[Parallel(n_jobs=-1)]: Done 2448 tasks      | elapsed:   29.6s\n",
      "[Parallel(n_jobs=-1)]: Done 2898 tasks      | elapsed:   38.9s\n",
      "[Parallel(n_jobs=-1)]: Done 3384 tasks      | elapsed:   44.4s\n",
      "[Parallel(n_jobs=-1)]: Done 3702 out of 3702 | elapsed:   48.2s finished\n"
     ]
    }
   ],
   "source": [
    "df_list = []\n",
    "for case in cases:\n",
    "    b = build_catalog(case)\n",
    "    df_list.append(b.df)"
   ]
  },
  {
   "cell_type": "code",
   "execution_count": 5,
   "id": "4af5248d-eaec-4309-8710-3da7cb9b8d45",
   "metadata": {},
   "outputs": [],
   "source": [
    "b.df = pd.concat(df_list)"
   ]
  },
  {
   "cell_type": "code",
   "execution_count": 6,
   "id": "45b2a4bf-3a3e-434f-9206-6706f70f171f",
   "metadata": {},
   "outputs": [
    {
     "name": "stdout",
     "output_type": "stream",
     "text": [
      "Saved catalog location: /glade/work/mgrover/cesm-validation-catalog.json and /glade/work/mgrover/cesm-validation-catalog.csv\n"
     ]
    },
    {
     "name": "stderr",
     "output_type": "stream",
     "text": [
      "/glade/u/home/mgrover/miniconda3/envs/hires-marbl/lib/python3.7/site-packages/ipykernel_launcher.py:17: UserWarning: Unable to parse 1 assets/files. A list of these assets can be found in /glade/work/mgrover/invalid_assets_cesm-validation-catalog.csv.\n"
     ]
    }
   ],
   "source": [
    "b.save(\n",
    "    # File path - could save as .csv (uncompressed csv) or .csv.gz (compressed csv)\n",
    "    \"/glade/work/mgrover/cesm-validation-catalog.csv\",\n",
    "    # Column name including filepath\n",
    "    path_column_name='path',\n",
    "    # Column name including variables\n",
    "    variable_column_name='variables',\n",
    "    # Data file format - could be netcdf or zarr (in this case, netcdf)\n",
    "    data_format=\"netcdf\",\n",
    "    # Which attributes to groupby when reading in variables using intake-esm\n",
    "    groupby_attrs=[\"component\", \"stream\", \"case\"],\n",
    "    # Aggregations which are fed into xarray when reading in data using intake\n",
    "    aggregations=[\n",
    "        {\n",
    "            \"type\": \"join_existing\",\n",
    "            \"attribute_name\": \"date\",\n",
    "            \"options\": {\"dim\": \"time\", \"coords\": \"minimal\", \"compat\": \"override\"},\n",
    "        }\n",
    "    ],\n",
    ")"
   ]
  }
 ],
 "metadata": {
  "kernelspec": {
   "display_name": "Python [conda env:miniconda3-hires-marbl]",
   "language": "python",
   "name": "conda-env-miniconda3-hires-marbl-py"
  },
  "language_info": {
   "codemirror_mode": {
    "name": "ipython",
    "version": 3
   },
   "file_extension": ".py",
   "mimetype": "text/x-python",
   "name": "python",
   "nbconvert_exporter": "python",
   "pygments_lexer": "ipython3",
   "version": "3.7.10"
  }
 },
 "nbformat": 4,
 "nbformat_minor": 5
}
