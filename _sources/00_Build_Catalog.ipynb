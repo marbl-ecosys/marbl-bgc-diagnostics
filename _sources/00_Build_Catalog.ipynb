{
 "cells": [
  {
   "cell_type": "markdown",
   "id": "f036fd98-b83f-4ad1-88f6-8e2d4c002cd6",
   "metadata": {},
   "source": [
    "# 00 - Build the Intake-ESM Catalog\n",
    "We can build an `intake-esm` catalog from the history files. During this analysis, we **do not** convert from history to timeseries."
   ]
  },
  {
   "cell_type": "code",
   "execution_count": 1,
   "id": "44336f87-91c6-453a-9d22-cc67f3371fc0",
   "metadata": {},
   "outputs": [],
   "source": [
    "from ecgtools import Builder\n",
    "from ecgtools.parsers.cesm import parse_cesm_history\n",
    "from config import analysis_config\n",
    "import pandas as pd"
   ]
  },
  {
   "cell_type": "code",
   "execution_count": 2,
   "id": "44d5c21e-a877-4eb0-89ea-c785b2af276e",
   "metadata": {},
   "outputs": [
    {
     "data": {
      "text/plain": [
       "['/glade/scratch/hannay/archive/b1850.f19_g17.validation_mct.004/ocn/hist',\n",
       " '/glade/scratch/hannay/archive/b1850.f19_g17.validation_mct.002/ocn/hist',\n",
       " '/glade/scratch/hannay/archive/b1850.f19_g17.validation_nuopc.004_copy2/ocn/hist']"
      ]
     },
     "execution_count": 2,
     "metadata": {},
     "output_type": "execute_result"
    }
   ],
   "source": [
    "analysis_config['case_data_paths']"
   ]
  },
  {
   "cell_type": "code",
   "execution_count": 3,
   "id": "38a6dfd6-9580-4337-95a6-ec424179cba1",
   "metadata": {},
   "outputs": [],
   "source": [
    "b = Builder(\n",
    "    # Directories with the output\n",
    "    analysis_config['case_data_paths'],\n",
    "    # Depth of 1 since we are sending it to the case output directory\n",
    "    depth=1,\n",
    "    # Exclude the timeseries and restart directories\n",
    "    exclude_patterns=[\"*/tseries/*\", \"*/rest/*\"],\n",
    "    # Number of jobs to execute - should be equal to # threads you are using\n",
    "    njobs=-1,\n",
    ")"
   ]
  },
  {
   "cell_type": "code",
   "execution_count": 5,
   "id": "3276aca3-145b-4882-b2a4-9c9bc47155c9",
   "metadata": {},
   "outputs": [
    {
     "name": "stdout",
     "output_type": "stream",
     "text": [
      "<class 'list'>\n",
      "[PosixPath('/glade/scratch/hannay/archive/b1850.f19_g17.validation_mct.004/ocn/hist'), PosixPath('/glade/scratch/hannay/archive/b1850.f19_g17.validation_mct.002/ocn/hist'), PosixPath('/glade/scratch/hannay/archive/b1850.f19_g17.validation_nuopc.004_copy2/ocn/hist')]\n"
     ]
    },
    {
     "name": "stderr",
     "output_type": "stream",
     "text": [
      "[Parallel(n_jobs=-1)]: Using backend LokyBackend with 40 concurrent workers.\n",
      "[Parallel(n_jobs=-1)]: Done   3 out of   3 | elapsed:    0.2s remaining:    0.0s\n",
      "[Parallel(n_jobs=-1)]: Done   3 out of   3 | elapsed:    0.2s finished\n",
      "[Parallel(n_jobs=-1)]: Using backend LokyBackend with 40 concurrent workers.\n",
      "[Parallel(n_jobs=-1)]: Done  82 tasks      | elapsed:    6.8s\n",
      "[Parallel(n_jobs=-1)]: Done 208 tasks      | elapsed:   10.0s\n",
      "[Parallel(n_jobs=-1)]: Done 370 tasks      | elapsed:   14.2s\n",
      "[Parallel(n_jobs=-1)]: Done 568 tasks      | elapsed:   19.4s\n",
      "[Parallel(n_jobs=-1)]: Done 802 tasks      | elapsed:   25.5s\n",
      "[Parallel(n_jobs=-1)]: Done 1072 tasks      | elapsed:   32.4s\n",
      "[Parallel(n_jobs=-1)]: Done 1378 tasks      | elapsed:   39.7s\n",
      "[Parallel(n_jobs=-1)]: Done 1720 tasks      | elapsed:   48.1s\n",
      "[Parallel(n_jobs=-1)]: Done 2098 tasks      | elapsed:   57.4s\n",
      "[Parallel(n_jobs=-1)]: Done 2512 tasks      | elapsed:  1.2min\n",
      "[Parallel(n_jobs=-1)]: Done 2962 tasks      | elapsed:  1.4min\n",
      "[Parallel(n_jobs=-1)]: Done 3448 tasks      | elapsed:  1.5min\n",
      "[Parallel(n_jobs=-1)]: Done 3970 tasks      | elapsed:  1.7min\n",
      "[Parallel(n_jobs=-1)]: Done 4528 tasks      | elapsed:  1.9min\n",
      "[Parallel(n_jobs=-1)]: Done 5122 tasks      | elapsed:  2.2min\n",
      "[Parallel(n_jobs=-1)]: Done 5752 tasks      | elapsed:  2.5min\n",
      "[Parallel(n_jobs=-1)]: Done 6418 tasks      | elapsed:  2.8min\n",
      "[Parallel(n_jobs=-1)]: Done 7120 tasks      | elapsed:  2.9min\n",
      "[Parallel(n_jobs=-1)]: Done 7858 tasks      | elapsed:  3.2min\n",
      "[Parallel(n_jobs=-1)]: Done 8632 tasks      | elapsed:  3.5min\n",
      "[Parallel(n_jobs=-1)]: Done 9442 tasks      | elapsed:  3.9min\n",
      "[Parallel(n_jobs=-1)]: Done 10288 tasks      | elapsed:  4.1min\n",
      "[Parallel(n_jobs=-1)]: Done 11106 out of 11106 | elapsed:  4.2min finished\n",
      "/glade/work/mgrover/git_repos/ecgtools/ecgtools/builder.py:193: UserWarning: Unable to parse 3 assets/files. A list of these assets can be found in `.invalid_assets` attribute.\n",
      "  parsing_func, parsing_func_kwargs\n"
     ]
    },
    {
     "data": {
      "text/plain": [
       "Builder(root_path=[PosixPath('/glade/scratch/hannay/archive/b1850.f19_g17.validation_mct.004/ocn/hist'), PosixPath('/glade/scratch/hannay/archive/b1850.f19_g17.validation_mct.002/ocn/hist'), PosixPath('/glade/scratch/hannay/archive/b1850.f19_g17.validation_nuopc.004_copy2/ocn/hist')], extension='.nc', depth=1, exclude_patterns=['*/tseries/*', '*/rest/*'], njobs=-1)"
      ]
     },
     "execution_count": 5,
     "metadata": {},
     "output_type": "execute_result"
    }
   ],
   "source": [
    "b.build(parse_cesm_history)"
   ]
  },
  {
   "cell_type": "code",
   "execution_count": 6,
   "id": "45b2a4bf-3a3e-434f-9206-6706f70f171f",
   "metadata": {},
   "outputs": [
    {
     "name": "stdout",
     "output_type": "stream",
     "text": [
      "Saved catalog location: ../data/cesm-validation-catalog.json and ../data/cesm-validation-catalog.csv\n"
     ]
    },
    {
     "name": "stderr",
     "output_type": "stream",
     "text": [
      "/glade/work/mgrover/miniconda3/envs/cesm2-marbl/lib/python3.7/site-packages/ipykernel_launcher.py:17: UserWarning: Unable to parse 3 assets/files. A list of these assets can be found in ../data/invalid_assets_cesm-validation-catalog.csv.\n"
     ]
    }
   ],
   "source": [
    "b.save(\n",
    "    # File path - could save as .csv (uncompressed csv) or .csv.gz (compressed csv)\n",
    "    analysis_config[\"catalog_csv\"],\n",
    "    # Column name including filepath\n",
    "    path_column_name='path',\n",
    "    # Column name including variables\n",
    "    variable_column_name='variables',\n",
    "    # Data file format - could be netcdf or zarr (in this case, netcdf)\n",
    "    data_format=\"netcdf\",\n",
    "    # Which attributes to groupby when reading in variables using intake-esm\n",
    "    groupby_attrs=[\"component\", \"stream\", \"case\"],\n",
    "    # Aggregations which are fed into xarray when reading in data using intake\n",
    "    aggregations=[\n",
    "        {\n",
    "            \"type\": \"join_existing\",\n",
    "            \"attribute_name\": \"date\",\n",
    "            \"options\": {\"dim\": \"time\", \"coords\": \"minimal\", \"compat\": \"override\"},\n",
    "        }\n",
    "    ],\n",
    ")"
   ]
  },
  {
   "cell_type": "code",
   "execution_count": null,
   "id": "4ce44351-7245-4d9e-bce2-067e140eb5a3",
   "metadata": {},
   "outputs": [],
   "source": []
  }
 ],
 "metadata": {
  "kernelspec": {
   "display_name": "Python [conda env:miniconda3-cesm2-marbl]",
   "language": "python",
   "name": "conda-env-miniconda3-cesm2-marbl-py"
  },
  "language_info": {
   "codemirror_mode": {
    "name": "ipython",
    "version": 3
   },
   "file_extension": ".py",
   "mimetype": "text/x-python",
   "name": "python",
   "nbconvert_exporter": "python",
   "pygments_lexer": "ipython3",
   "version": "3.7.10"
  }
 },
 "nbformat": 4,
 "nbformat_minor": 5
}
