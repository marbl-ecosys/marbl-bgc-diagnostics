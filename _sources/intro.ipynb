{
 "cells": [
  {
   "cell_type": "markdown",
   "id": "f8ce8cdb-d3ff-4e90-9d4a-7f8446d613a7",
   "metadata": {},
   "source": [
    "# Introduction\n",
    "\n",
    "This is an overview of the cases used in this diagnostics workflow"
   ]
  },
  {
   "cell_type": "code",
   "execution_count": null,
   "id": "f1b67569-aa4d-4a31-abb2-1a84b69b2523",
   "metadata": {},
   "outputs": [],
   "source": [
    "import intake\n",
    "df = pd.read_csv('')"
   ]
  }
 ],
 "metadata": {
  "kernelspec": {
   "display_name": "Python [conda env:miniconda3-obs-validation-dev]",
   "language": "python",
   "name": "conda-env-miniconda3-obs-validation-dev-py"
  },
  "language_info": {
   "codemirror_mode": {
    "name": "ipython",
    "version": 3
   },
   "file_extension": ".py",
   "mimetype": "text/x-python",
   "name": "python",
   "nbconvert_exporter": "python",
   "pygments_lexer": "ipython3",
   "version": "3.9.6"
  }
 },
 "nbformat": 4,
 "nbformat_minor": 5
}
