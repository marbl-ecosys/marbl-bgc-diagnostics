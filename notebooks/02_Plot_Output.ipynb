{
 "cells": [
  {
   "cell_type": "markdown",
   "id": "e84bcb1b-1d88-4c51-96d3-26cc6c7e8042",
   "metadata": {
    "tags": []
   },
   "source": [
    "# 02 - Plot the Comparisons\n",
    "\n",
    "Here, we plot the difference between the global average fields from model years 081 to 100"
   ]
  },
  {
   "cell_type": "markdown",
   "id": "eac2a189-1dce-4cff-ad76-3dd462746107",
   "metadata": {},
   "source": [
    "## Interactive Plots\n",
    "**Warning**: These plots will only render at a **single level** on the Jupyterbook website. If you are interested in looking at different vertical levels, please access this notebook on NCAR's computing resources.\n",
    "\n",
    "They are stored in various sections separated by:\n",
    "* Physics\n",
    "* Biogeochemistry\n",
    "\n",
    "You can find these plots throughout the Jupyter notebooks listed along the table of contents on the left side of the page. Below, is a summary of the available plots with links to the specific portion of the notebooks with those respective variables.\n",
    "\n",
    "---"
   ]
  },
  {
   "cell_type": "markdown",
   "id": "d2e9d577-8e2e-4d35-ae9e-eb51142cad16",
   "metadata": {},
   "source": [
    "## Physics Variables"
   ]
  },
  {
   "cell_type": "markdown",
   "id": "8d1cfea0-ec09-40e0-8369-564f90bb333c",
   "metadata": {},
   "source": [
    "### [Potential Temperature (TEMP)](https://marbl-ecosys.github.io/marbl-bgc-diagnostics/physics_variables.html#potential-temperature)"
   ]
  },
  {
   "cell_type": "markdown",
   "id": "3b108391-71c9-4635-80a5-e2f7c6eaa36f",
   "metadata": {},
   "source": [
    "### [Salinity (SALT)](https://marbl-ecosys.github.io/marbl-bgc-diagnostics/physics_variables.html#salinity)"
   ]
  },
  {
   "cell_type": "markdown",
   "id": "71fdc3e5-0c2e-46dc-a5b5-c59703a0f341",
   "metadata": {
    "tags": []
   },
   "source": [
    "### [Mixed Layer Depth (HMXL)](https://marbl-ecosys.github.io/marbl-bgc-diagnostics/physics_variables.html#mixed-layer-depth-hmxl)"
   ]
  },
  {
   "cell_type": "markdown",
   "id": "f918c81b-c3db-43e1-a9cc-a38c2e46509c",
   "metadata": {
    "tags": []
   },
   "source": [
    "### [Barotropic Stream Fuction (BSF)](https://marbl-ecosys.github.io/marbl-bgc-diagnostics/physics_variables.html#barotropic-stream-fuction-bsf)"
   ]
  },
  {
   "cell_type": "markdown",
   "id": "66d624e6-8149-4f24-88cf-3b303ad6f44b",
   "metadata": {
    "tags": []
   },
   "source": [
    "### [Ice Fraction (IFRAC)](https://marbl-ecosys.github.io/marbl-bgc-diagnostics/physics_variables.html#ice-fraction-ifrac)"
   ]
  },
  {
   "cell_type": "markdown",
   "id": "8e5ba74d-ba2b-4b69-a319-b22140fd9ac7",
   "metadata": {
    "tags": []
   },
   "source": [
    "### [Heat Flux (SHF)](https://marbl-ecosys.github.io/marbl-bgc-diagnostics/physics_fluxes.html#heat-flux-shf)"
   ]
  },
  {
   "cell_type": "markdown",
   "id": "261952f6-1624-47ca-ac9c-c9f42616b229",
   "metadata": {
    "tags": []
   },
   "source": [
    "### [Freshwater Heat Flux (SFWF)](https://marbl-ecosys.github.io/marbl-bgc-diagnostics/physics_fluxes.html#freshwater-heat-flux-sfwf)"
   ]
  },
  {
   "cell_type": "markdown",
   "id": "efce293a-57c4-4c89-b1cb-65c2dc30ded3",
   "metadata": {
    "tags": []
   },
   "source": [
    "### [Net Shortwave Flux at the Surface (SHF_QSW)](https://marbl-ecosys.github.io/marbl-bgc-diagnostics/physics_fluxes.html#net-shortwave-flux-at-the-surface-shf-qsw)\n",
    "---"
   ]
  },
  {
   "cell_type": "markdown",
   "id": "467af18f-9b7a-41b2-9410-1b41bc04aa43",
   "metadata": {},
   "source": [
    "## Biogeochemistry Variables"
   ]
  },
  {
   "cell_type": "markdown",
   "id": "d0c09164-83b9-452a-85ef-05d3dac56c9e",
   "metadata": {
    "tags": []
   },
   "source": [
    "### [Phosphate (PO4)](https://marbl-ecosys.github.io/marbl-bgc-diagnostics/bgc_0.html#phosphate-po4)"
   ]
  },
  {
   "cell_type": "markdown",
   "id": "70cfac3b-8b05-4919-9c91-71915489cd71",
   "metadata": {},
   "source": [
    "### [Vertical Integral of Diatom C Fixation (photoC_diat_zint)](https://marbl-ecosys.github.io/marbl-bgc-diagnostics/bgc_0.html#vertical-integral-of-diatom-c-fixation-photoc-diat-zint)"
   ]
  },
  {
   "cell_type": "markdown",
   "id": "ca346bf1-4aa6-4771-8257-908b8055e61d",
   "metadata": {},
   "source": [
    "### [Vertical Integral of Diazotroph C Fixation (photoC_diaz_zint)](https://marbl-ecosys.github.io/marbl-bgc-diagnostics/bgc_0.html#vertical-integral-of-diazotroph-c-fixation-photoc-diaz-zint)"
   ]
  },
  {
   "cell_type": "markdown",
   "id": "9cb3212f-3e2a-4a70-99d9-8986e992bd64",
   "metadata": {
    "tags": []
   },
   "source": [
    "### [Vertical Integral of Total C Fixation (photoC_TOT_zint)](https://marbl-ecosys.github.io/marbl-bgc-diagnostics/bgc_1.html#vertical-integral-of-total-c-fixation-photoc-tot-zint)"
   ]
  },
  {
   "cell_type": "markdown",
   "id": "43a9c795-ad9b-489f-800a-b35e6a49aa85",
   "metadata": {},
   "source": [
    "### [Vertical Integral of Small Phyto C Fixation](https://marbl-ecosys.github.io/marbl-bgc-diagnostics/bgc_1.html#vertical-integral-of-small-phyto-c-fixation)"
   ]
  },
  {
   "cell_type": "markdown",
   "id": "1af9557f-a3c8-460d-b0b9-d842fdbb4cfe",
   "metadata": {
    "tags": []
   },
   "source": [
    "### [POC Flux at 100 m (POC_FLUX_100m)](https://marbl-ecosys.github.io/marbl-bgc-diagnostics/bgc_1.html#poc-flux-at-100-m-poc-flux-100m)"
   ]
  },
  {
   "cell_type": "markdown",
   "id": "4970dca4-c40b-4182-a002-a31a7ed17c84",
   "metadata": {},
   "source": [
    "### [Diazotroph N Fixation (diaz_Nfix)](https://marbl-ecosys.github.io/marbl-bgc-diagnostics/bgc_1.html#diazotroph-n-fixation-diaz-nfix)"
   ]
  },
  {
   "cell_type": "markdown",
   "id": "93bb26be-2085-4265-a75a-700a0d30ec55",
   "metadata": {
    "tags": []
   },
   "source": [
    "### [CaCO3 Flux at 100 m (CaCO3_FLUX_100m)](https://marbl-ecosys.github.io/marbl-bgc-diagnostics/bgc_1.html#caco3-flux-at-100-m-caco3-flux-100m)"
   ]
  },
  {
   "cell_type": "markdown",
   "id": "aafe7b5f-9bc3-414d-a83b-cd88ca1b29ae",
   "metadata": {
    "tags": []
   },
   "source": [
    "### [SiO2 Production (SiO2_PROD)](https://marbl-ecosys.github.io/marbl-bgc-diagnostics/bgc_2.html#sio2-production-sio2-prod)"
   ]
  },
  {
   "cell_type": "markdown",
   "id": "445bf53f-cfd3-4efd-adad-1a65430a80e7",
   "metadata": {},
   "source": [
    "### [Alkalinity (ALK)](https://marbl-ecosys.github.io/marbl-bgc-diagnostics/bgc_2.html#alkalinity-alk)"
   ]
  },
  {
   "cell_type": "markdown",
   "id": "e6181a3e-bd54-4ec0-a896-b28cfc15a7f6",
   "metadata": {},
   "source": [
    "### [Dissolved Inorganic Carbon (DIC)](https://marbl-ecosys.github.io/marbl-bgc-diagnostics/bgc_2.html#dissolved-inorganic-carbon-dic)"
   ]
  },
  {
   "cell_type": "markdown",
   "id": "4af14b0e-c383-4866-89f1-8a35fd44d22d",
   "metadata": {},
   "source": [
    "### [Dissolved Oxygen (O2)](https://marbl-ecosys.github.io/marbl-bgc-diagnostics/bgc_2.html#dissolved-oxygen-o2)"
   ]
  },
  {
   "cell_type": "markdown",
   "id": "b3b39647-ef4e-4e7d-927c-67a122f253e8",
   "metadata": {
    "tags": []
   },
   "source": [
    "### [Dissolved Organic Carbon (DOC)](https://marbl-ecosys.github.io/marbl-bgc-diagnostics/bgc_2.html#dissolved-organic-carbon-doc)"
   ]
  },
  {
   "cell_type": "markdown",
   "id": "c75bd474-9f5e-4b2b-86f3-eea525bd8fb4",
   "metadata": {
    "tags": []
   },
   "source": [
    "### [Refractory DOC (DOCr)](https://marbl-ecosys.github.io/marbl-bgc-diagnostics/bgc_3.html#refractory-doc-docr)"
   ]
  },
  {
   "cell_type": "markdown",
   "id": "37e7758e-36bb-43c5-80a2-eaead1649449",
   "metadata": {},
   "source": [
    "### [DIC Surface Gas Flux (FG_CO2)](https://marbl-ecosys.github.io/marbl-bgc-diagnostics/bgc_3.html#dic-surface-gas-flux-fg-co2)"
   ]
  },
  {
   "cell_type": "markdown",
   "id": "875b9f8a-ac13-4d82-87da-585ef66a7eb4",
   "metadata": {},
   "source": [
    "### [Dissolved Ammonia (NH4)](https://marbl-ecosys.github.io/marbl-bgc-diagnostics/bgc_3.html#dissolved-ammonia-nh4)"
   ]
  },
  {
   "cell_type": "markdown",
   "id": "120edbdb-7f3c-404d-97c1-345063a7b949",
   "metadata": {},
   "source": [
    "### [Dissolved Inorganic Nitrate (NO3)](https://marbl-ecosys.github.io/marbl-bgc-diagnostics/bgc_3.html#dissolved-inorganic-nitrate-no3)"
   ]
  },
  {
   "cell_type": "markdown",
   "id": "53ee6040-d47f-4071-9dc1-9dd76f7398ca",
   "metadata": {
    "tags": []
   },
   "source": [
    "### [Dissolved Inorganic Silicate (SiO3)](https://marbl-ecosys.github.io/marbl-bgc-diagnostics/bgc_3.html#dissolved-inorganic-silicate-sio3)"
   ]
  },
  {
   "cell_type": "code",
   "execution_count": null,
   "id": "4c637748-bbaa-47ec-b1cd-479b224ca3ff",
   "metadata": {},
   "outputs": [],
   "source": []
  }
 ],
 "metadata": {
  "kernelspec": {
   "display_name": "Python [conda env:miniconda3-cesm-collections-dev]",
   "language": "python",
   "name": "conda-env-miniconda3-cesm-collections-dev-py"
  },
  "language_info": {
   "codemirror_mode": {
    "name": "ipython",
    "version": 3
   },
   "file_extension": ".py",
   "mimetype": "text/x-python",
   "name": "python",
   "nbconvert_exporter": "python",
   "pygments_lexer": "ipython3",
   "version": "3.9.6"
  }
 },
 "nbformat": 4,
 "nbformat_minor": 5
}
