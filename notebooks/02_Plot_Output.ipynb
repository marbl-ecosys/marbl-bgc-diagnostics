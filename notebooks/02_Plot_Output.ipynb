{
 "cells": [
  {
   "cell_type": "markdown",
   "id": "e84bcb1b-1d88-4c51-96d3-26cc6c7e8042",
   "metadata": {
    "tags": []
   },
   "source": [
    "# 02 - Plot the Comparisons\n",
    "\n",
    "Here, we plot the difference between the global average fields from model years 081 to 100"
   ]
  },
  {
   "cell_type": "markdown",
   "id": "6d80a59a-867a-4dee-9f76-6c7802f6ba18",
   "metadata": {},
   "source": [
    "## Imports"
   ]
  },
  {
   "cell_type": "code",
   "execution_count": null,
   "id": "08d9e859-e4b7-40b5-9d7d-f7e0cb894149",
   "metadata": {},
   "outputs": [],
   "source": [
    "from distributed import Client\n",
    "from ncar_jobqueue import NCARCluster\n",
    "import xarray as xr\n",
    "from cartopy import crs\n",
    "import holoviews as hv\n",
    "\n",
    "import holoviews as hv\n",
    "import geoviews as gv\n",
    "import datashader\n",
    "from holoviews.operation.datashader import regrid, shade, datashade, rasterize\n",
    "import matplotlib.pyplot as plt\n",
    "import panel as pn\n",
    "\n",
    "pn.extension()\n",
    "hv.extension('bokeh')"
   ]
  },
  {
   "cell_type": "markdown",
   "id": "43059670-bc3d-4bd8-a840-b0edc7ff4f86",
   "metadata": {},
   "source": [
    "## Spin Up a Dask Cluster"
   ]
  },
  {
   "cell_type": "code",
   "execution_count": null,
   "id": "01764ce1-cf60-402c-957d-6cc5bb341b17",
   "metadata": {},
   "outputs": [],
   "source": [
    "cluster = NCARCluster()\n",
    "cluster.scale(10)\n",
    "client = Client(cluster)"
   ]
  },
  {
   "cell_type": "code",
   "execution_count": null,
   "id": "42ff275d-e5b6-4f18-9d1b-20853e8ebb53",
   "metadata": {},
   "outputs": [],
   "source": [
    "client"
   ]
  },
  {
   "cell_type": "markdown",
   "id": "bf8bf7fd-8e8e-4b7f-91ed-7c17505a2d05",
   "metadata": {},
   "source": [
    "## Setup Plotting Functions"
   ]
  },
  {
   "cell_type": "code",
   "execution_count": null,
   "id": "d5ff6554-c349-4524-9caa-86f8335cbb7a",
   "metadata": {},
   "outputs": [],
   "source": [
    "def plot_interactive(ds, variable, cmap='magma'):\n",
    "    \"\"\"Plots an interactive plot using holoviews\"\"\"\n",
    "    da = ds[variable]\n",
    "    da['nlon'] = ds.nlon\n",
    "    da['nlat'] = ds.nlat\n",
    "    da = da.drop_vars(['TLAT', 'TLONG', 'ULAT', 'ULONG'])\n",
    "    \n",
    "    hvds = hv.Dataset(da, kdims=list(da.dims))\n",
    "        \n",
    "    quadmesh = hvds.to(hv.QuadMesh, kdims=[\"nlon\", \"nlat\"])\n",
    "    datashade_obj = rasterize(quadmesh, precompute=True, cmap=plt.cm.RdBu_r).opts(colorbar=True, width=600, height=400, cmap=cmap, tools=['hover'])\n",
    "    return datashade_obj.relabel(f'{ds.title}')"
   ]
  },
  {
   "cell_type": "code",
   "execution_count": null,
   "id": "31dcdb88-4688-4889-ac0c-83554e757bbc",
   "metadata": {},
   "outputs": [],
   "source": [
    "def plot_comparison(ds, case_to_compare, variable, baseline = 'b1850.f19_g17.validation_mct.004'):\n",
    "    \"\"\"Plot a comparison between cases\"\"\"\n",
    "    \n",
    "    ds2 = ds.sel(case=baseline)\n",
    "    ds2.attrs['title'] = baseline\n",
    "    baseline_plot = plot_interactive(ds2, variable)\n",
    "    \n",
    "    ds1 = ds.sel(case=case_to_compare)\n",
    "    ds1.attrs['title'] = case_to_compare\n",
    "    case_compare_plot = plot_interactive(ds1, variable)\n",
    "    \n",
    "    diff = ds1[[variable]] - ds2[[variable]]\n",
    "    diff.attrs['title'] = f'{case_to_compare} - {baseline}'\n",
    "    diff[variable].attrs['units'] = ds[variable].units\n",
    "    difference_plot = plot_interactive(diff, variable, cmap='seismic')\n",
    "    \n",
    "    diff_percent = (diff/ds1[[variable]].max()) * 100\n",
    "    diff_percent.attrs['title'] = f'Percent Difference'\n",
    "    diff_percent[variable].attrs['units'] = 'Percent'\n",
    "    difference_plot_percent = plot_interactive(diff_percent, variable, cmap='seismic')\n",
    "    \n",
    "    plots = hv.Layout([case_compare_plot + baseline_plot + difference_plot + difference_plot_percent]).cols(2)\n",
    "    panel = pn.Column(pn.pane.Markdown(f\"## {ds1[variable].long_name} {ds1[variable].units}\", align=\"center\"), plots)\n",
    "    return panel"
   ]
  },
  {
   "cell_type": "markdown",
   "id": "4289f216-b410-4ce6-bad3-432e627d1702",
   "metadata": {},
   "source": [
    "## Read in the data"
   ]
  },
  {
   "cell_type": "code",
   "execution_count": null,
   "id": "b37d4eda-91ae-479e-a113-c36bdcc0aac7",
   "metadata": {},
   "outputs": [],
   "source": [
    "ds = xr.open_zarr('cached_output/averages_year_081_100.zarr')\n",
    "ds"
   ]
  },
  {
   "cell_type": "markdown",
   "id": "eac2a189-1dce-4cff-ad76-3dd462746107",
   "metadata": {},
   "source": [
    "## Interactive Plots\n",
    "**Warning**: These plots will only render at a **single level** on the Jupyterbook website. If you are interestd in looking at different vertical levels, please access this notebook on NCAR's computing resources.\n",
    "\n",
    "They are stored in various sections separated by:\n",
    "* Physics\n",
    "* Biogeo"
   ]
  },
  {
   "cell_type": "markdown",
   "id": "8d1cfea0-ec09-40e0-8369-564f90bb333c",
   "metadata": {},
   "source": [
    "### Potential Temperature"
   ]
  },
  {
   "cell_type": "code",
   "execution_count": null,
   "id": "3b79fe90-8bc1-4e56-b639-cb8a7066681e",
   "metadata": {},
   "outputs": [],
   "source": [
    "plot_comparison(ds, 'b1850.f19_g17.validation_mct.002', 'TEMP')"
   ]
  },
  {
   "cell_type": "code",
   "execution_count": null,
   "id": "7fcaf15e-c308-4175-8d26-1ac680a78521",
   "metadata": {},
   "outputs": [],
   "source": [
    "plot_comparison(ds, 'b1850.f19_g17.validation_nuopc.004', 'TEMP')"
   ]
  },
  {
   "cell_type": "markdown",
   "id": "3b108391-71c9-4635-80a5-e2f7c6eaa36f",
   "metadata": {},
   "source": [
    "### Salinity"
   ]
  },
  {
   "cell_type": "code",
   "execution_count": null,
   "id": "7bce144b-9e4d-42bd-9c0a-7babd0ca09f8",
   "metadata": {},
   "outputs": [],
   "source": [
    "plot_comparison(ds, 'b1850.f19_g17.validation_mct.002', 'SALT')"
   ]
  },
  {
   "cell_type": "code",
   "execution_count": null,
   "id": "b65f344d-8c7e-4bd0-9856-0b9a8e8a60ad",
   "metadata": {},
   "outputs": [],
   "source": [
    "plot_comparison(ds, 'b1850.f19_g17.validation_nuopc.004', 'SALT')"
   ]
  },
  {
   "cell_type": "markdown",
   "id": "71fdc3e5-0c2e-46dc-a5b5-c59703a0f341",
   "metadata": {
    "tags": []
   },
   "source": [
    "### Mixed Layer Depth (HMXL)"
   ]
  },
  {
   "cell_type": "code",
   "execution_count": null,
   "id": "8d20a938-0b17-4b8e-a4a0-89ba5a38469f",
   "metadata": {},
   "outputs": [],
   "source": [
    "plot_comparison(ds, 'b1850.f19_g17.validation_mct.002', 'HMXL')"
   ]
  },
  {
   "cell_type": "code",
   "execution_count": null,
   "id": "e6b3c644-4be3-4fac-87cf-03ded3378ac6",
   "metadata": {},
   "outputs": [],
   "source": [
    "plot_comparison(ds, 'b1850.f19_g17.validation_nuopc.004', 'HMXL')"
   ]
  },
  {
   "cell_type": "markdown",
   "id": "f918c81b-c3db-43e1-a9cc-a38c2e46509c",
   "metadata": {
    "tags": []
   },
   "source": [
    "### Barotropic Stream Fuction (BSF)"
   ]
  },
  {
   "cell_type": "code",
   "execution_count": null,
   "id": "c82c823a-6d3f-44da-a25d-0daff57a4906",
   "metadata": {},
   "outputs": [],
   "source": [
    "plot_comparison(ds, 'b1850.f19_g17.validation_mct.002', 'BSF')"
   ]
  },
  {
   "cell_type": "code",
   "execution_count": null,
   "id": "7d3583f3-f1ef-46b5-a02f-af0386bf6537",
   "metadata": {},
   "outputs": [],
   "source": [
    "plot_comparison(ds, 'b1850.f19_g17.validation_nuopc.004', 'BSF')"
   ]
  },
  {
   "cell_type": "markdown",
   "id": "66d624e6-8149-4f24-88cf-3b303ad6f44b",
   "metadata": {
    "tags": []
   },
   "source": [
    "### Ice Fraction (IFRAC)"
   ]
  },
  {
   "cell_type": "code",
   "execution_count": null,
   "id": "d0139e5d-8f3a-4764-8719-34c506888f94",
   "metadata": {},
   "outputs": [],
   "source": [
    "plot_comparison(ds, 'b1850.f19_g17.validation_mct.002', 'IFRAC')"
   ]
  },
  {
   "cell_type": "code",
   "execution_count": null,
   "id": "91c3fc53-c186-42ee-827c-c6c97d4a4129",
   "metadata": {},
   "outputs": [],
   "source": [
    "plot_comparison(ds, 'b1850.f19_g17.validation_nuopc.004', 'IFRAC')"
   ]
  },
  {
   "cell_type": "markdown",
   "id": "8e5ba74d-ba2b-4b69-a319-b22140fd9ac7",
   "metadata": {
    "tags": []
   },
   "source": [
    "### Heat Flux (SHF)"
   ]
  },
  {
   "cell_type": "code",
   "execution_count": null,
   "id": "ed9c4c14-1eb2-4989-924a-cf650d9fb51e",
   "metadata": {},
   "outputs": [],
   "source": [
    "plot_comparison(ds, 'b1850.f19_g17.validation_mct.002', 'SHF')"
   ]
  },
  {
   "cell_type": "code",
   "execution_count": null,
   "id": "fc8e08f7-79e6-472a-8e84-16d7cb3b1c33",
   "metadata": {},
   "outputs": [],
   "source": [
    "plot_comparison(ds, 'b1850.f19_g17.validation_nuopc.004', 'SHF')"
   ]
  },
  {
   "cell_type": "markdown",
   "id": "261952f6-1624-47ca-ac9c-c9f42616b229",
   "metadata": {
    "tags": []
   },
   "source": [
    "### Freshwater Heat Flux (SFWF)"
   ]
  },
  {
   "cell_type": "code",
   "execution_count": null,
   "id": "575a3312-88dd-4064-b4fa-89e2e29d336e",
   "metadata": {},
   "outputs": [],
   "source": [
    "plot_comparison(ds, 'b1850.f19_g17.validation_mct.002', 'SFWF')"
   ]
  },
  {
   "cell_type": "code",
   "execution_count": null,
   "id": "bd8d817b-a49d-431b-b81e-beb3fc5081a7",
   "metadata": {},
   "outputs": [],
   "source": [
    "plot_comparison(ds, 'b1850.f19_g17.validation_nuopc.004', 'SFWF')"
   ]
  },
  {
   "cell_type": "markdown",
   "id": "efce293a-57c4-4c89-b1cb-65c2dc30ded3",
   "metadata": {},
   "source": [
    "### Net Shortwave Flux at the Surface (SHF_QSW)"
   ]
  },
  {
   "cell_type": "code",
   "execution_count": null,
   "id": "68c73de3-42bc-465b-a482-1a1095c2c615",
   "metadata": {},
   "outputs": [],
   "source": [
    "plot_comparison(ds, 'b1850.f19_g17.validation_mct.002', 'SFWF')"
   ]
  },
  {
   "cell_type": "code",
   "execution_count": null,
   "id": "d3ada26d-445c-41c7-892f-492e71b9d7d5",
   "metadata": {},
   "outputs": [],
   "source": [
    "plot_comparison(ds, 'b1850.f19_g17.validation_nuopc.004', 'SHF_QSW')"
   ]
  },
  {
   "cell_type": "markdown",
   "id": "d0c09164-83b9-452a-85ef-05d3dac56c9e",
   "metadata": {
    "tags": []
   },
   "source": [
    "### Phosphate (PO4)"
   ]
  },
  {
   "cell_type": "code",
   "execution_count": null,
   "id": "e3895589-2e0f-42d7-ad6e-ce3a5407273c",
   "metadata": {},
   "outputs": [],
   "source": [
    "plot_comparison(ds, 'b1850.f19_g17.validation_mct.002', 'PO4')"
   ]
  },
  {
   "cell_type": "code",
   "execution_count": null,
   "id": "0c89c861-8457-4599-8690-cd2d484c9b11",
   "metadata": {},
   "outputs": [],
   "source": [
    "plot_comparison(ds, 'b1850.f19_g17.validation_nuopc.004', 'PO4')"
   ]
  },
  {
   "cell_type": "markdown",
   "id": "70cfac3b-8b05-4919-9c91-71915489cd71",
   "metadata": {},
   "source": [
    "### Vertical Integral of Diatom C Fixation (photoC_diat_zint)"
   ]
  },
  {
   "cell_type": "code",
   "execution_count": null,
   "id": "61e4df07-a8e3-4451-933e-f67d96d920a8",
   "metadata": {},
   "outputs": [],
   "source": [
    "plot_comparison(ds, 'b1850.f19_g17.validation_mct.002', 'photoC_diat_zint')"
   ]
  },
  {
   "cell_type": "code",
   "execution_count": null,
   "id": "b0c9d5ac-30d1-4162-ac44-8e1e9ed62b51",
   "metadata": {},
   "outputs": [],
   "source": [
    "plot_comparison(ds, 'b1850.f19_g17.validation_nuopc.004', 'photoC_diat_zint')"
   ]
  },
  {
   "cell_type": "markdown",
   "id": "ca346bf1-4aa6-4771-8257-908b8055e61d",
   "metadata": {},
   "source": [
    "### Vertical Integral of Diazotroph C Fixation (photoC_diaz_zint)"
   ]
  },
  {
   "cell_type": "code",
   "execution_count": null,
   "id": "ca960f71-780c-482f-b7c5-c7d1ba1f063c",
   "metadata": {},
   "outputs": [],
   "source": [
    "plot_comparison(ds, 'b1850.f19_g17.validation_mct.002', 'photoC_diaz_zint')"
   ]
  },
  {
   "cell_type": "code",
   "execution_count": null,
   "id": "dc209223-0494-445c-8841-f8ab4a14fba2",
   "metadata": {},
   "outputs": [],
   "source": [
    "plot_comparison(ds, 'b1850.f19_g17.validation_nuopc.004', 'photoC_diaz_zint')"
   ]
  },
  {
   "cell_type": "markdown",
   "id": "9cb3212f-3e2a-4a70-99d9-8986e992bd64",
   "metadata": {
    "tags": []
   },
   "source": [
    "### Vertical Integral of Total C Fixation (photoC_TOT_zint)"
   ]
  },
  {
   "cell_type": "code",
   "execution_count": null,
   "id": "4d3f5211-a5ea-49e7-bf6f-bb3e1ae6ab1f",
   "metadata": {},
   "outputs": [],
   "source": [
    "plot_comparison(ds, 'b1850.f19_g17.validation_mct.002', 'photoC_TOT_zint')"
   ]
  },
  {
   "cell_type": "code",
   "execution_count": null,
   "id": "d26a330b-609d-459d-8401-3e4b2867776a",
   "metadata": {},
   "outputs": [],
   "source": [
    "plot_comparison(ds, 'b1850.f19_g17.validation_nuopc.004', 'photoC_TOT_zint')"
   ]
  },
  {
   "cell_type": "markdown",
   "id": "43a9c795-ad9b-489f-800a-b35e6a49aa85",
   "metadata": {},
   "source": [
    "### Vertical Integral of Small Phyto C Fixation"
   ]
  },
  {
   "cell_type": "code",
   "execution_count": null,
   "id": "fc078886-d42e-4ec7-a133-546dc2bc4447",
   "metadata": {},
   "outputs": [],
   "source": [
    "plot_comparison(ds, 'b1850.f19_g17.validation_mct.002', 'photoC_sp_zint')"
   ]
  },
  {
   "cell_type": "code",
   "execution_count": null,
   "id": "33f996f3-0c1b-4dff-bd39-0b064c99d642",
   "metadata": {},
   "outputs": [],
   "source": [
    "plot_comparison(ds, 'b1850.f19_g17.validation_nuopc.004', 'photoC_sp_zint')"
   ]
  },
  {
   "cell_type": "markdown",
   "id": "1af9557f-a3c8-460d-b0b9-d842fdbb4cfe",
   "metadata": {
    "tags": []
   },
   "source": [
    "### POC Flux at 100 m (POC_FLUX_100m)"
   ]
  },
  {
   "cell_type": "code",
   "execution_count": null,
   "id": "5898fef3-5253-4793-acaa-f1d04856c41d",
   "metadata": {},
   "outputs": [],
   "source": [
    "plot_comparison(ds, 'b1850.f19_g17.validation_mct.002', 'POC_FLUX_100m')"
   ]
  },
  {
   "cell_type": "code",
   "execution_count": null,
   "id": "38d21776-6967-4587-a5b0-bb9bae752a4e",
   "metadata": {},
   "outputs": [],
   "source": [
    "plot_comparison(ds, 'b1850.f19_g17.validation_nuopc.004', 'POC_FLUX_100m')"
   ]
  },
  {
   "cell_type": "markdown",
   "id": "4970dca4-c40b-4182-a002-a31a7ed17c84",
   "metadata": {},
   "source": [
    "### Diazotroph N Fixation (diaz_Nfix)"
   ]
  },
  {
   "cell_type": "code",
   "execution_count": null,
   "id": "780664c6-d7a2-407a-b440-ad46854031b7",
   "metadata": {},
   "outputs": [],
   "source": [
    "plot_comparison(ds, 'b1850.f19_g17.validation_mct.002', 'diaz_Nfix')"
   ]
  },
  {
   "cell_type": "code",
   "execution_count": null,
   "id": "8b8bde34-569e-4a6c-a927-5a2b135e0416",
   "metadata": {},
   "outputs": [],
   "source": [
    "plot_comparison(ds, 'b1850.f19_g17.validation_nuopc.004', 'diaz_Nfix')"
   ]
  },
  {
   "cell_type": "markdown",
   "id": "93bb26be-2085-4265-a75a-700a0d30ec55",
   "metadata": {
    "tags": []
   },
   "source": [
    "### CaCO3 Flux at 100 m (CaCO3_FLUX_100m)"
   ]
  },
  {
   "cell_type": "code",
   "execution_count": null,
   "id": "1ec594c6-0ae7-4a67-83a2-c436ecc2f5bf",
   "metadata": {},
   "outputs": [],
   "source": [
    "plot_comparison(ds, 'b1850.f19_g17.validation_mct.002', 'CaCO3_FLUX_100m')"
   ]
  },
  {
   "cell_type": "code",
   "execution_count": null,
   "id": "295d74a8-116d-4c6c-82a5-add37323ff33",
   "metadata": {},
   "outputs": [],
   "source": [
    "plot_comparison(ds, 'b1850.f19_g17.validation_nuopc.004', 'CaCO3_FLUX_100m')"
   ]
  },
  {
   "cell_type": "markdown",
   "id": "aafe7b5f-9bc3-414d-a83b-cd88ca1b29ae",
   "metadata": {
    "tags": []
   },
   "source": [
    "### SiO2 Production (SiO2_PROD)"
   ]
  },
  {
   "cell_type": "code",
   "execution_count": null,
   "id": "97ecfdad-ad01-482a-adc1-7488586874bf",
   "metadata": {},
   "outputs": [],
   "source": [
    "plot_comparison(ds, 'b1850.f19_g17.validation_mct.002', 'SiO2_PROD')"
   ]
  },
  {
   "cell_type": "code",
   "execution_count": null,
   "id": "b3eb1fd3-fb83-469d-b119-65f3c46e4baf",
   "metadata": {},
   "outputs": [],
   "source": [
    "plot_comparison(ds, 'b1850.f19_g17.validation_nuopc.004', 'SiO2_PROD')"
   ]
  },
  {
   "cell_type": "markdown",
   "id": "445bf53f-cfd3-4efd-adad-1a65430a80e7",
   "metadata": {},
   "source": [
    "### Alkalinity (ALK)"
   ]
  },
  {
   "cell_type": "code",
   "execution_count": null,
   "id": "469e28f3-5db2-4eef-9ba7-c17e335ee262",
   "metadata": {},
   "outputs": [],
   "source": [
    "plot_comparison(ds, 'b1850.f19_g17.validation_mct.002', 'ALK')"
   ]
  },
  {
   "cell_type": "code",
   "execution_count": null,
   "id": "32b2bc23-8971-4446-ae2c-29b3fa75fc4f",
   "metadata": {},
   "outputs": [],
   "source": [
    "plot_comparison(ds, 'b1850.f19_g17.validation_nuopc.004', 'ALK')"
   ]
  },
  {
   "cell_type": "markdown",
   "id": "e6181a3e-bd54-4ec0-a896-b28cfc15a7f6",
   "metadata": {},
   "source": [
    "### Dissolved Inorganic Carbon (DIC)"
   ]
  },
  {
   "cell_type": "code",
   "execution_count": null,
   "id": "10b555e8-f88a-44ad-b673-e126e4664889",
   "metadata": {},
   "outputs": [],
   "source": [
    "plot_comparison(ds, 'b1850.f19_g17.validation_mct.002', 'DIC')"
   ]
  },
  {
   "cell_type": "code",
   "execution_count": null,
   "id": "32e61c56-2ac6-4b9d-a9b9-185b941c58e7",
   "metadata": {},
   "outputs": [],
   "source": [
    "plot_comparison(ds, 'b1850.f19_g17.validation_nuopc.004', 'DIC')"
   ]
  },
  {
   "cell_type": "markdown",
   "id": "4af14b0e-c383-4866-89f1-8a35fd44d22d",
   "metadata": {},
   "source": [
    "### Dissolved Oxygen (O2)"
   ]
  },
  {
   "cell_type": "code",
   "execution_count": null,
   "id": "8aa4ccc9-473c-4541-8d78-7b75b78e392c",
   "metadata": {},
   "outputs": [],
   "source": [
    "plot_comparison(ds, 'b1850.f19_g17.validation_mct.002', 'O2')"
   ]
  },
  {
   "cell_type": "code",
   "execution_count": null,
   "id": "f8f906d3-6dfd-41ef-8b68-b80f3bc5dfd7",
   "metadata": {},
   "outputs": [],
   "source": [
    "plot_comparison(ds, 'b1850.f19_g17.validation_nuopc.004', 'O2')"
   ]
  },
  {
   "cell_type": "markdown",
   "id": "b3b39647-ef4e-4e7d-927c-67a122f253e8",
   "metadata": {
    "tags": []
   },
   "source": [
    "### Dissolved Organic Carbon (DOC)"
   ]
  },
  {
   "cell_type": "code",
   "execution_count": null,
   "id": "49b83480-2e22-4192-96fe-66fd11481e15",
   "metadata": {},
   "outputs": [],
   "source": [
    "plot_comparison(ds, 'b1850.f19_g17.validation_mct.002', 'DOC')"
   ]
  },
  {
   "cell_type": "code",
   "execution_count": null,
   "id": "76374d07-f4da-4b6a-839c-38af98212411",
   "metadata": {},
   "outputs": [],
   "source": [
    "plot_comparison(ds, 'b1850.f19_g17.validation_nuopc.004', 'DOC')"
   ]
  },
  {
   "cell_type": "markdown",
   "id": "c75bd474-9f5e-4b2b-86f3-eea525bd8fb4",
   "metadata": {},
   "source": [
    "### Refractory DOC (DOCr)"
   ]
  },
  {
   "cell_type": "code",
   "execution_count": null,
   "id": "608c34f9-a7f4-4fe2-9985-afd2b181216d",
   "metadata": {},
   "outputs": [],
   "source": [
    "plot_comparison(ds, 'b1850.f19_g17.validation_mct.002', 'DOCr')"
   ]
  },
  {
   "cell_type": "code",
   "execution_count": null,
   "id": "cfc76947-0217-4644-bd62-72e5f75175c9",
   "metadata": {},
   "outputs": [],
   "source": [
    "plot_comparison(ds, 'b1850.f19_g17.validation_nuopc.004', 'DOCr')"
   ]
  },
  {
   "cell_type": "markdown",
   "id": "53e9bade-3158-4679-a3e4-1d1d4dd63a0a",
   "metadata": {},
   "source": [
    "### DIC Surface Gas Flux (FG_CO2)"
   ]
  },
  {
   "cell_type": "code",
   "execution_count": null,
   "id": "649f8298-32ad-4e0b-aba7-054dcd17a71d",
   "metadata": {},
   "outputs": [],
   "source": [
    "plot_comparison(ds, 'b1850.f19_g17.validation_mct.002', 'FG_CO2')"
   ]
  },
  {
   "cell_type": "code",
   "execution_count": null,
   "id": "cef70148-ed16-4d72-a2a2-4118187c08eb",
   "metadata": {},
   "outputs": [],
   "source": [
    "plot_comparison(ds, 'b1850.f19_g17.validation_nuopc.004', 'FG_CO2')"
   ]
  },
  {
   "cell_type": "markdown",
   "id": "875b9f8a-ac13-4d82-87da-585ef66a7eb4",
   "metadata": {},
   "source": [
    "### Dissolved Ammonia (NH4)"
   ]
  },
  {
   "cell_type": "code",
   "execution_count": null,
   "id": "706debf2-addf-4bd1-9445-30f58ccb894a",
   "metadata": {},
   "outputs": [],
   "source": [
    "plot_comparison(ds, 'b1850.f19_g17.validation_mct.002', 'NH4')"
   ]
  },
  {
   "cell_type": "code",
   "execution_count": null,
   "id": "874f7c3d-e9fa-4a14-9809-faad8ca0fffc",
   "metadata": {},
   "outputs": [],
   "source": [
    "plot_comparison(ds, 'b1850.f19_g17.validation_nuopc.004', 'NH4')"
   ]
  },
  {
   "cell_type": "markdown",
   "id": "120edbdb-7f3c-404d-97c1-345063a7b949",
   "metadata": {},
   "source": [
    "### Dissolved Inorganic Nitrate (NO3)"
   ]
  },
  {
   "cell_type": "code",
   "execution_count": null,
   "id": "00c14767-8630-4937-bf0a-c8313bc99fba",
   "metadata": {},
   "outputs": [],
   "source": [
    "plot_comparison(ds, 'b1850.f19_g17.validation_mct.002', 'NO3')"
   ]
  },
  {
   "cell_type": "code",
   "execution_count": null,
   "id": "b881a4a7-7662-4a2f-ae73-cb408e2d4972",
   "metadata": {},
   "outputs": [],
   "source": [
    "plot_comparison(ds, 'b1850.f19_g17.validation_nuopc.004', 'NO3')"
   ]
  },
  {
   "cell_type": "markdown",
   "id": "53ee6040-d47f-4071-9dc1-9dd76f7398ca",
   "metadata": {
    "tags": []
   },
   "source": [
    "### Dissolved Inorganic Silicate (SiO3)"
   ]
  },
  {
   "cell_type": "code",
   "execution_count": null,
   "id": "e7085d92-d20e-457a-945f-965c9c96fe54",
   "metadata": {},
   "outputs": [],
   "source": [
    "plot_comparison(ds, 'b1850.f19_g17.validation_mct.002', 'SiO3')"
   ]
  },
  {
   "cell_type": "code",
   "execution_count": null,
   "id": "c5d32f00-1c60-4652-8d00-56eaad57df8b",
   "metadata": {},
   "outputs": [],
   "source": [
    "plot_comparison(ds, 'b1850.f19_g17.validation_nuopc.004', 'SiO3')"
   ]
  },
  {
   "cell_type": "code",
   "execution_count": null,
   "id": "32bbde66-bdc2-4a5d-848c-64bb78a2aed2",
   "metadata": {},
   "outputs": [],
   "source": []
  },
  {
   "cell_type": "code",
   "execution_count": null,
   "id": "4c637748-bbaa-47ec-b1cd-479b224ca3ff",
   "metadata": {},
   "outputs": [],
   "source": []
  }
 ],
 "metadata": {
  "kernelspec": {
   "display_name": "Python [conda env:miniconda3-cesm-collections-dev]",
   "language": "python",
   "name": "conda-env-miniconda3-cesm-collections-dev-py"
  },
  "language_info": {
   "codemirror_mode": {
    "name": "ipython",
    "version": 3
   },
   "file_extension": ".py",
   "mimetype": "text/x-python",
   "name": "python",
   "nbconvert_exporter": "python",
   "pygments_lexer": "ipython3",
   "version": "3.9.6"
  }
 },
 "nbformat": 4,
 "nbformat_minor": 5
}
